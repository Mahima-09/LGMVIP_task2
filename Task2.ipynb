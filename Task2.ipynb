{
 "cells": [
  {
   "cell_type": "markdown",
   "id": "097e3618",
   "metadata": {},
   "source": [
    "## 2)Stock Market Prediction And Forecasting Using Stacked LSTM"
   ]
  },
  {
   "cell_type": "markdown",
   "id": "88d13fa7",
   "metadata": {},
   "source": [
    "## Task2"
   ]
  },
  {
   "cell_type": "code",
   "execution_count": 3,
   "id": "7bf2e5e7",
   "metadata": {},
   "outputs": [],
   "source": [
    "# Import necessary libraries\n",
    "import pandas as pd\n",
    "import numpy as np\n",
    "import matplotlib.pyplot as plt\n",
    "from sklearn.preprocessing import MinMaxScaler\n",
    "from sklearn.model_selection import train_test_split\n",
    "from keras.models import Sequential\n",
    "from keras.layers import Dense, LSTM"
   ]
  },
  {
   "cell_type": "code",
   "execution_count": 4,
   "id": "fe293309",
   "metadata": {},
   "outputs": [],
   "source": [
    "# Load the data\n",
    "df = pd.read_csv('https://raw.githubusercontent.com/mwitiderrick/stockprice/master/NSE-TATAGLOBAL.csv')"
   ]
  },
  {
   "cell_type": "code",
   "execution_count": 6,
   "id": "9014d65f",
   "metadata": {},
   "outputs": [],
   "source": [
    "# Split the data into training and testing sets\n",
    "X_train, X_test, y_train, y_test = train_test_split(X, y, test_size=0.2, random_state=0)"
   ]
  },
  {
   "cell_type": "code",
   "execution_count": 7,
   "id": "05a5d4b0",
   "metadata": {},
   "outputs": [],
   "source": [
    "# Build the LSTM model\n",
    "model = Sequential()\n",
    "model.add(LSTM(units=50, return_sequences=True, input_shape=(X_train.shape[1], 1)))\n",
    "model.add(LSTM(units=50, return_sequences=True))\n",
    "model.add(LSTM(units=50))\n",
    "model.add(Dense(units=1))"
   ]
  },
  {
   "cell_type": "code",
   "execution_count": 8,
   "id": "a7fd7635",
   "metadata": {},
   "outputs": [],
   "source": [
    "# Compile the model\n",
    "model.compile(optimizer='adam', loss='mean_squared_error')"
   ]
  },
  {
   "cell_type": "code",
   "execution_count": 9,
   "id": "965113c8",
   "metadata": {},
   "outputs": [
    {
     "name": "stdout",
     "output_type": "stream",
     "text": [
      "Epoch 1/50\n",
      "50/50 [==============================] - 11s 64ms/step - loss: 0.0102\n",
      "Epoch 2/50\n",
      "50/50 [==============================] - 3s 70ms/step - loss: 0.0014\n",
      "Epoch 3/50\n",
      "50/50 [==============================] - 3s 61ms/step - loss: 0.0013\n",
      "Epoch 4/50\n",
      "50/50 [==============================] - 4s 75ms/step - loss: 0.0012\n",
      "Epoch 5/50\n",
      "50/50 [==============================] - 3s 63ms/step - loss: 0.0012\n",
      "Epoch 6/50\n",
      "50/50 [==============================] - 4s 71ms/step - loss: 9.7483e-04\n",
      "Epoch 7/50\n",
      "50/50 [==============================] - 3s 60ms/step - loss: 9.5089e-04\n",
      "Epoch 8/50\n",
      "50/50 [==============================] - 4s 73ms/step - loss: 8.3956e-04\n",
      "Epoch 9/50\n",
      "50/50 [==============================] - 3s 67ms/step - loss: 0.0011\n",
      "Epoch 10/50\n",
      "50/50 [==============================] - 3s 70ms/step - loss: 7.8234e-04\n",
      "Epoch 11/50\n",
      "50/50 [==============================] - 3s 61ms/step - loss: 7.5240e-04\n",
      "Epoch 12/50\n",
      "50/50 [==============================] - 3s 69ms/step - loss: 7.7396e-04\n",
      "Epoch 13/50\n",
      "50/50 [==============================] - 3s 64ms/step - loss: 6.5929e-04\n",
      "Epoch 14/50\n",
      "50/50 [==============================] - 4s 81ms/step - loss: 6.3175e-04\n",
      "Epoch 15/50\n",
      "50/50 [==============================] - 3s 64ms/step - loss: 6.1849e-04\n",
      "Epoch 16/50\n",
      "50/50 [==============================] - 4s 70ms/step - loss: 6.1920e-04\n",
      "Epoch 17/50\n",
      "50/50 [==============================] - 3s 65ms/step - loss: 6.3821e-04\n",
      "Epoch 18/50\n",
      "50/50 [==============================] - 4s 86ms/step - loss: 6.1080e-04\n",
      "Epoch 19/50\n",
      "50/50 [==============================] - 4s 74ms/step - loss: 4.9035e-04\n",
      "Epoch 20/50\n",
      "50/50 [==============================] - 3s 65ms/step - loss: 4.5045e-04\n",
      "Epoch 21/50\n",
      "50/50 [==============================] - 4s 73ms/step - loss: 5.1255e-04\n",
      "Epoch 22/50\n",
      "50/50 [==============================] - 3s 66ms/step - loss: 3.9919e-04\n",
      "Epoch 23/50\n",
      "50/50 [==============================] - 4s 82ms/step - loss: 3.7002e-04\n",
      "Epoch 24/50\n",
      "50/50 [==============================] - 3s 66ms/step - loss: 3.8610e-04\n",
      "Epoch 25/50\n",
      "50/50 [==============================] - 4s 78ms/step - loss: 3.5350e-04\n",
      "Epoch 26/50\n",
      "50/50 [==============================] - 3s 63ms/step - loss: 3.1781e-04\n",
      "Epoch 27/50\n",
      "50/50 [==============================] - 4s 81ms/step - loss: 3.5488e-04\n",
      "Epoch 28/50\n",
      "50/50 [==============================] - 3s 62ms/step - loss: 3.0596e-04\n",
      "Epoch 29/50\n",
      "50/50 [==============================] - 4s 71ms/step - loss: 2.8664e-04\n",
      "Epoch 30/50\n",
      "50/50 [==============================] - 3s 63ms/step - loss: 2.6598e-04\n",
      "Epoch 31/50\n",
      "50/50 [==============================] - 4s 81ms/step - loss: 2.6414e-04\n",
      "Epoch 32/50\n",
      "50/50 [==============================] - 4s 77ms/step - loss: 2.6496e-04\n",
      "Epoch 33/50\n",
      "50/50 [==============================] - 4s 71ms/step - loss: 2.5793e-04\n",
      "Epoch 34/50\n",
      "50/50 [==============================] - 4s 72ms/step - loss: 2.3245e-04\n",
      "Epoch 35/50\n",
      "50/50 [==============================] - 4s 72ms/step - loss: 3.0123e-04\n",
      "Epoch 36/50\n",
      "50/50 [==============================] - 5s 96ms/step - loss: 2.5314e-04\n",
      "Epoch 37/50\n",
      "50/50 [==============================] - 4s 78ms/step - loss: 2.2735e-04\n",
      "Epoch 38/50\n",
      "50/50 [==============================] - 4s 74ms/step - loss: 2.3447e-04\n",
      "Epoch 39/50\n",
      "50/50 [==============================] - 3s 61ms/step - loss: 2.3065e-04\n",
      "Epoch 40/50\n",
      "50/50 [==============================] - 4s 84ms/step - loss: 2.3561e-04\n",
      "Epoch 41/50\n",
      "50/50 [==============================] - 4s 72ms/step - loss: 2.3138e-04\n",
      "Epoch 42/50\n",
      "50/50 [==============================] - 4s 74ms/step - loss: 3.0025e-04\n",
      "Epoch 43/50\n",
      "50/50 [==============================] - 3s 60ms/step - loss: 2.3861e-04\n",
      "Epoch 44/50\n",
      "50/50 [==============================] - 4s 74ms/step - loss: 2.3020e-04\n",
      "Epoch 45/50\n",
      "50/50 [==============================] - 4s 73ms/step - loss: 2.3622e-04\n",
      "Epoch 46/50\n",
      "50/50 [==============================] - 4s 77ms/step - loss: 2.2228e-04\n",
      "Epoch 47/50\n",
      "50/50 [==============================] - 3s 69ms/step - loss: 2.1572e-04\n",
      "Epoch 48/50\n",
      "50/50 [==============================] - 5s 93ms/step - loss: 1.9753e-04\n",
      "Epoch 49/50\n",
      "50/50 [==============================] - 5s 92ms/step - loss: 2.5871e-04\n",
      "Epoch 50/50\n",
      "50/50 [==============================] - 3s 66ms/step - loss: 2.3894e-04\n"
     ]
    },
    {
     "data": {
      "text/plain": [
       "<keras.callbacks.History at 0x283385da490>"
      ]
     },
     "execution_count": 9,
     "metadata": {},
     "output_type": "execute_result"
    }
   ],
   "source": [
    "# Train the model\n",
    "model.fit(X_train, y_train, epochs=50, batch_size=32)"
   ]
  },
  {
   "cell_type": "code",
   "execution_count": 11,
   "id": "9248a179",
   "metadata": {},
   "outputs": [
    {
     "name": "stdout",
     "output_type": "stream",
     "text": [
      "13/13 [==============================] - 0s 29ms/step\n",
      "MSE:  0.08378485380277015\n",
      "RMSE:  0.28945613450533425\n"
     ]
    }
   ],
   "source": [
    "# Evaluate the model\n",
    "y_pred = model.predict(X_test)\n",
    "mse = np.mean(np.square(y_test-y_pred))\n",
    "rmse = np.sqrt(mse)\n",
    "print(\"MSE: \", mse)\n",
    "print(\"RMSE: \", rmse)"
   ]
  },
  {
   "cell_type": "code",
   "execution_count": 12,
   "id": "9c8dff08",
   "metadata": {},
   "outputs": [
    {
     "name": "stdout",
     "output_type": "stream",
     "text": [
      "62/62 [==============================] - 1s 20ms/step\n"
     ]
    }
   ],
   "source": [
    "# Make predictions\n",
    "predicted_stock_price = model.predict(X)\n",
    "predicted_stock_price = scaler.inverse_transform(predicted_stock_price)"
   ]
  },
  {
   "cell_type": "code",
   "execution_count": 13,
   "id": "93745872",
   "metadata": {},
   "outputs": [
    {
     "data": {
      "image/png": "[encoded data removed]",
      "text/plain": [
       "<Figure size 432x288 with 1 Axes>"
      ]
     },
     "metadata": {
      "needs_background": "light"
     },
     "output_type": "display_data"
    }
   ],
   "source": [
    "# Plot the predicted stock prices against the actual stock prices\n",
    "plt.plot(df['Close'].values, color='blue', label='Actual Stock Price')\n",
    "plt.plot(predicted_stock_price, color='red', label='Predicted Stock Price')\n",
    "plt.title('Stock Price Prediction')\n",
    "plt.xlabel('Time')\n",
    "plt.ylabel('Stock Price')\n",
    "plt.legend()\n",
    "plt.show()"
   ]
  }
 ],
 "metadata": {
  "kernelspec": {
   "display_name": "Python 3 (ipykernel)",
   "language": "python",
   "name": "python3"
  },
  "language_info": {
   "codemirror_mode": {
    "name": "ipython",
    "version": 3
   },
   "file_extension": ".py",
   "mimetype": "text/x-python",
   "name": "python",
   "nbconvert_exporter": "python",
   "pygments_lexer": "ipython3",
   "version": "3.9.12"
  }
 },
 "nbformat": 4,
 "nbformat_minor": 5
}
